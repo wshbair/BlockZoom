{
 "cells": [
  {
   "cell_type": "code",
   "execution_count": null,
   "metadata": {},
   "outputs": [],
   "source": [
    "import blocksDB_diagramming as BDD\n",
    "\n",
    "BDD.load_dependencies()\n",
    "\n",
    "NAME_PREFIX=\"TEMP\"\n",
    "\n",
    "DBFILE,FROM_BLOCK,TO_BLOCK =\"temp1.db\", 54, 124\n",
    "#DBFILE,FROM_BLOCK,TO_BLOCK =\"temp1.db\", 0, 233\n",
    "\n",
    "#DBFILE,FROM_BLOCK,TO_BLOCK =\"temp2.db\", 1, 5000\n",
    "\n",
    "imgpath=\"img\""
   ]
  },
  {
   "cell_type": "code",
   "execution_count": null,
   "metadata": {},
   "outputs": [],
   "source": [
    "conn, blocknumbers = BDD.load_db_and_check_complete(DBFILE)\n",
    "BDD.simple_stats(conn)\n",
    "df = BDD.read_whole_table_into_dataframe(conn)\n",
    "conn.close()\n",
    "\n",
    "assert BDD.check_timestamp_format(df)\n",
    "\n",
    "BDD.add_columns(df)\n",
    "BDD.show_peak_TPS(df)\n",
    "    \n",
    "# if FROM_BLOCK==-1: FROM_BLOCK = min(blocknumbers)[0]\n",
    "# if TO_BLOCK==-1: TO_BLOCK = max(blocknumbers)[0]\n",
    "\n",
    "# N.B.: Redefined: FROM_BLOCK, TO_BLOCK now experiment limits!\n",
    "\n",
    "print (FROM_BLOCK, TO_BLOCK)\n",
    "\n",
    "\n",
    "\n",
    "##### TODO: Check whether any of these is start position dependent!\n"
   ]
  },
  {
   "cell_type": "code",
   "execution_count": null,
   "metadata": {},
   "outputs": [],
   "source": [
    "print(df.index)\n",
    "print (max(df.index))"
   ]
  },
  {
   "cell_type": "code",
   "execution_count": null,
   "metadata": {},
   "outputs": [],
   "source": [
    "def experiment_slice(df, FROM_BLOCK, TO_BLOCK, emptyBlocks):\n",
    "    \"\"\"\n",
    "    cut out the dataframe from FROM_BLOCK to TO_BLOCK+emptyBlocks (incl that last one)\n",
    "    can handle that df starts not at block 0\n",
    "    can handle that limits are smaller or larger than available blocknumbers\n",
    "    \n",
    "    \"\"\"\n",
    "    assert FROM_BLOCK <= TO_BLOCK\n",
    "    \n",
    "    index_from = min( df[df['blocknumber'] >= FROM_BLOCK].index.tolist() )\n",
    "    # print (slice_from)\n",
    "        \n",
    "    index_to = max( df[df['blocknumber'] <= TO_BLOCK+emptyBlocks].index.tolist() )\n",
    "    # print(slice_to)\n",
    "        \n",
    "    dfs = df[index_from:index_to + 1]\n",
    "    \n",
    "    return dfs, index_from, index_to\n",
    "\n",
    "# dfs, slice_from, slice_to = experiment_slice(df, 50, 50, 0)\n",
    "dfs, index_from, index_to = experiment_slice(df, FROM_BLOCK, TO_BLOCK, 10)\n",
    "print (index_from, index_to)\n",
    "dfs"
   ]
  },
  {
   "cell_type": "code",
   "execution_count": null,
   "metadata": {},
   "outputs": [],
   "source": [
    "print (\"Old diagrams could not correctly handle the blocknumbers unless dataframe started with block zero\")\n",
    "print (\"See title when using temp1.db which starts at block 30 only\")\n",
    "print (\"But this is obsolete now anyways.\")\n",
    "\n",
    "fn = BDD.diagrams_oldversion(df, index_from, index_to, NAME_PREFIX, gas_logy=True, bt_logy=True, imgpath=imgpath)\n",
    "\n",
    "print (fn)\n",
    "\n"
   ]
  },
  {
   "cell_type": "code",
   "execution_count": null,
   "metadata": {},
   "outputs": [],
   "source": [
    "dfs, index_from, index_to = experiment_slice(df, FROM_BLOCK, TO_BLOCK, 10)\n",
    "print (index_from, index_to)\n",
    "dfs"
   ]
  },
  {
   "cell_type": "code",
   "execution_count": null,
   "metadata": {},
   "outputs": [],
   "source": [
    "import matplotlib.pyplot as plt\n",
    "fig, axes = plt.subplots(2, 2, figsize=(16,9))"
   ]
  },
  {
   "cell_type": "code",
   "execution_count": null,
   "metadata": {},
   "outputs": [],
   "source": [
    "print (dfs.columns)\n",
    "print (dfs[['blocknumber','txcount','timestamp']].head(5))\n",
    "print (dfs[['blocknumber','txcount','timestamp']].tail(15))"
   ]
  },
  {
   "cell_type": "code",
   "execution_count": null,
   "metadata": {},
   "outputs": [],
   "source": [
    "def averageTps_wholeExperiment_viaLeavingOutEmptyBlocks(dfs, emptyBlocks):\n",
    "    \n",
    "    ts1 = dfs.iloc[0]['timestamp'] # stop clock starts WHEN block 0 is in already!\n",
    "    ts2 = dfs.iloc[-emptyBlocks-1]['timestamp']   # and ends at last filled block\n",
    "    # print (ts1, ts2)\n",
    "    \n",
    "    txs=sum(dfs['txcount'][1:-emptyBlocks+1]) # N.B.: start summing at block 1 not 0 !\n",
    "    # print (txs)\n",
    "    \n",
    "    tps=(txs/(ts2-ts1))\n",
    "    # print (tps)\n",
    "    return tps, \"%.1f\" % tps\n",
    "\n",
    "averageTps_wholeExperiment_viaLeavingOutEmptyBlocks(dfs, emptyBlocks=10)"
   ]
  },
  {
   "cell_type": "code",
   "execution_count": null,
   "metadata": {},
   "outputs": [],
   "source": [
    "def averageTps_wholeExperiment(dfs, FROM_BLOCK, TO_BLOCK):\n",
    "    \"\"\"\n",
    "    works on already sliced dataframe, \n",
    "    where first experiment block is index 0\n",
    "    and last experiment block is index [TO_BLOCK - FROM_BLOCK]\n",
    "    N.B.:\n",
    "    we cannot rely on the blocktime of very first block\n",
    "    so we simply leave the transactions out of the summation, and \n",
    "    the duration is from when that first block WAS MINED = its timestamp.\n",
    "    \"\"\"\n",
    "    \n",
    "    blocks = TO_BLOCK - FROM_BLOCK + 1\n",
    "    ts1 = dfs.iloc[0]['timestamp'] # stop clock starts WHEN block 0 is in already!\n",
    "    ts2 = dfs.iloc[blocks-1]['timestamp']   # and ends at last filled block\n",
    "    duration = ts2-ts1\n",
    "    print (ts1, ts2, duration)\n",
    "    \n",
    "    txs=sum(dfs['txcount'][1:blocks]) # N.B.: start summing at block 1 not 0 !\n",
    "    print (txs)\n",
    "    \n",
    "    tps=(txs/duration)\n",
    "    print (tps)\n",
    "    return tps, \"%.1f\" % tps\n",
    "\n",
    "averageTps_wholeExperiment(dfs, FROM_BLOCK, TO_BLOCK)"
   ]
  },
  {
   "cell_type": "code",
   "execution_count": null,
   "metadata": {},
   "outputs": [],
   "source": [
    "def averager(dfs, col, emptyBlocks, fmt=\"%.1f\"):\n",
    "    \"\"\"\n",
    "    We want the real average of that 'col', taken only over the non-empty blocks.\n",
    "    N.B.: this assumes that there are actually enough emptyBlocks at the end!\n",
    "    \"\"\"\n",
    "    av = dfs[col] [:-emptyBlocks] .mean()\n",
    "    avTxt = fmt % av\n",
    "    return av, avTxt\n",
    "\n",
    "\n",
    "def avgLine(ax, dfs, emptyBlocks, avg, avgTxt):\n",
    "    \"\"\"\n",
    "    horizontal line plus text on white background\n",
    "    \"\"\"\n",
    "    blMin, blMax = min(dfs[\"blocknumber\"])+1, max(dfs[\"blocknumber\"][:-emptyBlocks])\n",
    "    ax.plot([blMin, blMax], [avg, avg], \"k-\")\n",
    "    \n",
    "    ax.text(blMin + (blMax-blMin + emptyBlocks)*0.95, avg, avgTxt, \n",
    "            bbox=dict(facecolor='white', edgecolor='white'))\n",
    "    \n",
    "\n",
    "def axes_simplifier(ax, logYscale=False):\n",
    "    \"\"\"\n",
    "    otherwise matplotlib automatically switches on notations on the ticks \n",
    "    that might be confusing to non-technical people\n",
    "    \"\"\"\n",
    "    ax.get_xaxis().get_major_formatter().set_useOffset(False)\n",
    "    ax.get_xaxis().get_major_formatter().set_scientific(False)\n",
    "    if not logYscale:\n",
    "        ax.get_yaxis().get_major_formatter().set_useOffset(False)\n",
    "        ax.get_yaxis().get_major_formatter().set_scientific(False)\n",
    "\n",
    "        \n",
    "def tps_plotter(ax, dfs, FROM_BLOCK, TO_BLOCK, emptyBlocks):\n",
    "    \"\"\"\n",
    "    TPS average calculated only over non-empty blocks!\n",
    "    average calculated for TPS (not for smoothed 3, 5, 10 blocks averages)\n",
    "    N.B.: this assumes that there are actually enough emptyBlocks at the end!\n",
    "    \"\"\"\n",
    "    \n",
    "    cols=['TPS_1blk', 'TPS_3blks', 'TPS_5blks', 'TPS_10blks']\n",
    "    for col in cols:\n",
    "        ax.plot(dfs['blocknumber'], dfs[col])\n",
    "\n",
    "    axes_simplifier(ax)\n",
    "   \n",
    "    #avg, avgTxt = averager(dfs, cols[0], emptyBlocks, \"%.1f\")\n",
    "    #legend = [cols[0] + \" (avg %s)\"%avgTxt ] + cols[1:]\n",
    "    ax.legend(cols); \n",
    "   \n",
    "    avg2, avgTxt2 = averageTps_wholeExperiment(dfs, FROM_BLOCK, TO_BLOCK)\n",
    "    avgLine(ax, dfs, emptyBlocks, avg2, avgTxt2)\n",
    "    \n",
    "    ax.set_title(\"avg TPS %s = #TX whole experiment / blocktimes diff\" % avgTxt2)\n",
    "  \n",
    "    \n",
    "# fig, axes = plt.subplots(1, 1, figsize=(16,9))\n",
    "fig, axes = plt.subplots(1, 1, figsize=(6,4))\n",
    "tps_plotter(axes, dfs, FROM_BLOCK, TO_BLOCK, 10)"
   ]
  },
  {
   "cell_type": "code",
   "execution_count": null,
   "metadata": {},
   "outputs": [],
   "source": [
    "def blocktimes_plotter(ax, dfs):\n",
    "    \"show the blocktimes\"\n",
    "\n",
    "    ax.set_title(\"blocktime seconds since last block\")\n",
    "    \n",
    "    ax.scatter(x=dfs['blocknumber'], y=dfs['blocktime'], c=\"b\", marker=\"x\")\n",
    "    \n",
    "    axes_simplifier(ax)\n",
    "\n",
    "fig, axes = plt.subplots(1, 1, figsize=(16,9))\n",
    "# fig, axes = plt.subplots(1, 1, figsize=(6,4))\n",
    "blocktimes_plotter(axes, dfs)    "
   ]
  },
  {
   "cell_type": "code",
   "execution_count": null,
   "metadata": {},
   "outputs": [],
   "source": [
    "def blocksizes_plotter(ax, dfs, emptyBlocks):\n",
    "    # blocksizes\n",
    "    # plus average line\n",
    "    \n",
    "    ax.scatter(dfs['blocknumber'], dfs['size'], c=\"g\", marker=\"o\")\n",
    "    ax.plot(   dfs['blocknumber'], dfs['size'], \"g-\")\n",
    "    \n",
    "    avg, avgTxt = averager(dfs, 'size', emptyBlocks, \"%d\")\n",
    "    avgLine(ax, dfs, emptyBlocks, avg, avgTxt)\n",
    "    \n",
    "    ax.set_title(\"blocksizes in bytes\")\n",
    "    \n",
    "    axes_simplifier(ax)\n",
    "\n",
    "#fig, axes = plt.subplots(1, 1, figsize=(16,9))\n",
    "fig, axes = plt.subplots(1, 1, figsize=(6,4))\n",
    "blocksizes_plotter(axes, dfs, 15)    "
   ]
  },
  {
   "cell_type": "code",
   "execution_count": null,
   "metadata": {},
   "outputs": [],
   "source": [
    "# just a test what happens when many many blocks\n",
    "\n",
    "import pandas as pd\n",
    "testdf = pd.DataFrame({\"blocknumber\" : range(100000,300000)})\n",
    "testdf[\"size\"]=40000\n",
    "testdf\n",
    "fig, axes = plt.subplots(1, 1, figsize=(6,4))\n",
    "blocksizes_plotter(axes, testdf, 10)"
   ]
  },
  {
   "cell_type": "code",
   "execution_count": null,
   "metadata": {},
   "outputs": [],
   "source": [
    "?plt.scatter"
   ]
  },
  {
   "cell_type": "code",
   "execution_count": null,
   "metadata": {},
   "outputs": [],
   "source": [
    "?plt.plot"
   ]
  },
  {
   "cell_type": "code",
   "execution_count": null,
   "metadata": {},
   "outputs": [],
   "source": [
    "?axes.text"
   ]
  },
  {
   "cell_type": "code",
   "execution_count": null,
   "metadata": {},
   "outputs": [],
   "source": [
    "dfs['GLPS_1blk']"
   ]
  },
  {
   "cell_type": "code",
   "execution_count": null,
   "metadata": {},
   "outputs": [],
   "source": [
    "def gas_plotter(ax, dfs):\n",
    "    ax.set_title(\"gasUsed and gasLimit per second\")    \n",
    "    \n",
    "    ax.plot(   dfs['blocknumber'], dfs['GLPS_1blk']) # , \"g-\")\n",
    "    ax.plot(   dfs['blocknumber'], dfs['GUPS_1blk']) # \n",
    "    \n",
    "    ax.set_yscale('log')\n",
    "    \n",
    "    #ax=df[['blocknumber', 'GLPS_1blk', 'GUPS_1blk']][blockFrom:blockTo].plot(x='blocknumber', \n",
    "    #                                                                         rot=90, ax=axes[1,1], \n",
    "    #                                                                         logy=gas_logy)\n",
    "    \n",
    "    axes_simplifier(ax, logYscale=True)\n",
    "    ax.legend ([\"gasLimit/sec\", \"gasUsed/sec\"] )\n",
    "\n",
    "fig, axes = plt.subplots(1, 1, figsize=(6,4))\n",
    "gas_plotter(axes, dfs)"
   ]
  },
  {
   "cell_type": "code",
   "execution_count": null,
   "metadata": {},
   "outputs": [],
   "source": [
    "def diagrams(prefix, df, blockFrom, blockTo, emptyBlocks=10):\n",
    "    \"\"\"\n",
    "    new version more precise & consistent\n",
    "    * slice of whole experiment (from/to), plus some emptyBlocks at the end\n",
    "    * averages are calc'ed over the experiment blocks only! \n",
    "    * average lines & number for tps & block size\n",
    "    * title shows more infos about experiment\n",
    "    * x-axis ticks issues solved\n",
    "    \"\"\"\n",
    "    \n",
    "    # offset=min(df[\"blocknumber\"])\n",
    "    # just the slice of the experiment + 10 extra blocks:\n",
    "    # dfs = df[FROM_BLOCK-offset:TO_BLOCK-offset+emptyBlocks+1] \n",
    "    dfs, index_from, index_to = experiment_slice(df, blockFrom, blockTo, emptyBlocks)\n",
    "    \n",
    "    # https://github.com/matplotlib/matplotlib/issues/5907#issuecomment-179001811\n",
    "    import matplotlib\n",
    "    matplotlib.rcParams['agg.path.chunksize'] = 10000\n",
    "    \n",
    "    fig, axes = plt.subplots(2, 2, figsize=(16,9)) #,  sharex=True)\n",
    "    fig.subplots_adjust(hspace=0.25, wspace=0.20)\n",
    "    \n",
    "    tps_plotter(axes[0,0], dfs, FROM_BLOCK, TO_BLOCK, emptyBlocks)\n",
    "    blocktimes_plotter(axes[0,1], dfs)\n",
    "    blocksizes_plotter(axes[1,0], dfs, emptyBlocks)  \n",
    "    gas_plotter(axes[1,1], dfs)\n",
    "    \n",
    "    txs=sum(dfs['txcount'][0:-emptyBlocks+1])\n",
    "    title = prefix + \" blocks %d-%d with %d txs ~ %d txs/block\" \n",
    "    title = title % (blockFrom, blockTo, txs, round(txs/(blockTo-blockFrom+1)))\n",
    "    fig.suptitle(title, fontsize=16)\n",
    "    \n",
    "    return fig, axes, dfs, txs\n",
    "    \n",
    "print (FROM_BLOCK, TO_BLOCK)\n",
    "_, _, dfs, txs = diagrams(\"TEMP\", df, FROM_BLOCK, TO_BLOCK, 12)\n",
    "print (min(dfs[\"blocknumber\"]), max(dfs[\"blocknumber\"]))"
   ]
  },
  {
   "cell_type": "code",
   "execution_count": null,
   "metadata": {},
   "outputs": [],
   "source": []
  },
  {
   "cell_type": "code",
   "execution_count": null,
   "metadata": {},
   "outputs": [],
   "source": []
  }
 ],
 "metadata": {
  "kernelspec": {
   "display_name": "Python.3.py3eth",
   "language": "python",
   "name": "python.3.py3eth"
  },
  "language_info": {
   "codemirror_mode": {
    "name": "ipython",
    "version": 3
   },
   "file_extension": ".py",
   "mimetype": "text/x-python",
   "name": "python",
   "nbconvert_exporter": "python",
   "pygments_lexer": "ipython3",
   "version": "3.5.3"
  }
 },
 "nbformat": 4,
 "nbformat_minor": 2
}
