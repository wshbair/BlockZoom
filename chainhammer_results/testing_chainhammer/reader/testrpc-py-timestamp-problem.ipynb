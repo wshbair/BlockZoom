{
 "cells": [
  {
   "cell_type": "markdown",
   "metadata": {},
   "source": [
    "problem reported at\n",
    "https://github.com/pipermerriam/eth-testrpc/issues/117"
   ]
  },
  {
   "cell_type": "code",
   "execution_count": 1,
   "metadata": {},
   "outputs": [
    {
     "name": "stdout",
     "output_type": "stream",
     "text": [
      "pandas version 0.23.4\n",
      "sqlite3 version 2.6.0\n"
     ]
    }
   ],
   "source": [
    "import pandas; print(\"pandas version\", pandas.__version__)\n",
    "import sqlite3; print(\"sqlite3 version\", sqlite3.version)"
   ]
  },
  {
   "cell_type": "code",
   "execution_count": 2,
   "metadata": {},
   "outputs": [
    {
     "data": {
      "text/html": [
       "<div>\n",
       "<style scoped>\n",
       "    .dataframe tbody tr th:only-of-type {\n",
       "        vertical-align: middle;\n",
       "    }\n",
       "\n",
       "    .dataframe tbody tr th {\n",
       "        vertical-align: top;\n",
       "    }\n",
       "\n",
       "    .dataframe thead th {\n",
       "        text-align: right;\n",
       "    }\n",
       "</style>\n",
       "<table border=\"1\" class=\"dataframe\">\n",
       "  <thead>\n",
       "    <tr style=\"text-align: right;\">\n",
       "      <th></th>\n",
       "      <th>blocknumber</th>\n",
       "      <th>timestamp</th>\n",
       "      <th>size</th>\n",
       "      <th>gasUsed</th>\n",
       "      <th>gasLimit</th>\n",
       "      <th>txcount</th>\n",
       "    </tr>\n",
       "  </thead>\n",
       "  <tbody>\n",
       "    <tr>\n",
       "      <th>0</th>\n",
       "      <td>0</td>\n",
       "      <td>1410973349</td>\n",
       "      <td>908</td>\n",
       "      <td>127173</td>\n",
       "      <td>4000000</td>\n",
       "      <td>1</td>\n",
       "    </tr>\n",
       "    <tr>\n",
       "      <th>1</th>\n",
       "      <td>1</td>\n",
       "      <td>1410973360</td>\n",
       "      <td>608</td>\n",
       "      <td>26627</td>\n",
       "      <td>4000000</td>\n",
       "      <td>1</td>\n",
       "    </tr>\n",
       "    <tr>\n",
       "      <th>2</th>\n",
       "      <td>2</td>\n",
       "      <td>1410973367</td>\n",
       "      <td>608</td>\n",
       "      <td>41691</td>\n",
       "      <td>4000000</td>\n",
       "      <td>1</td>\n",
       "    </tr>\n",
       "    <tr>\n",
       "      <th>3</th>\n",
       "      <td>3</td>\n",
       "      <td>1410973374</td>\n",
       "      <td>608</td>\n",
       "      <td>26691</td>\n",
       "      <td>4000000</td>\n",
       "      <td>1</td>\n",
       "    </tr>\n",
       "    <tr>\n",
       "      <th>4</th>\n",
       "      <td>4</td>\n",
       "      <td>1410973385</td>\n",
       "      <td>608</td>\n",
       "      <td>26691</td>\n",
       "      <td>4000000</td>\n",
       "      <td>1</td>\n",
       "    </tr>\n",
       "  </tbody>\n",
       "</table>\n",
       "</div>"
      ],
      "text/plain": [
       "   blocknumber   timestamp  size  gasUsed  gasLimit  txcount\n",
       "0            0  1410973349   908   127173   4000000        1\n",
       "1            1  1410973360   608    26627   4000000        1\n",
       "2            2  1410973367   608    41691   4000000        1\n",
       "3            3  1410973374   608    26691   4000000        1\n",
       "4            4  1410973385   608    26691   4000000        1"
      ]
     },
     "execution_count": 2,
     "metadata": {},
     "output_type": "execute_result"
    }
   ],
   "source": [
    "# experiment was run with testrpc version 1.3.5\n",
    "# then the essential information from the blocks extracted into \"temp.db\" with\n",
    "# https://github.com/drandreaskrueger/chainhammer/blob/master/chainreader/blocksDB_create.py\n",
    "# now read that back in:\n",
    "\n",
    "DBFILE = \"temp.db\"\n",
    "conn = sqlite3.connect(DBFILE)\n",
    "\n",
    "SQL=\"SELECT * FROM blocks ORDER BY blocknumber\"\n",
    "df = pandas.read_sql(SQL, conn)\n",
    "conn.close()\n",
    "\n",
    "df.head(5)"
   ]
  },
  {
   "cell_type": "code",
   "execution_count": 3,
   "metadata": {},
   "outputs": [
    {
     "data": {
      "text/html": [
       "<div>\n",
       "<style scoped>\n",
       "    .dataframe tbody tr th:only-of-type {\n",
       "        vertical-align: middle;\n",
       "    }\n",
       "\n",
       "    .dataframe tbody tr th {\n",
       "        vertical-align: top;\n",
       "    }\n",
       "\n",
       "    .dataframe thead th {\n",
       "        text-align: right;\n",
       "    }\n",
       "</style>\n",
       "<table border=\"1\" class=\"dataframe\">\n",
       "  <thead>\n",
       "    <tr style=\"text-align: right;\">\n",
       "      <th></th>\n",
       "      <th>blocknumber</th>\n",
       "      <th>timestamp</th>\n",
       "      <th>size</th>\n",
       "      <th>gasUsed</th>\n",
       "      <th>gasLimit</th>\n",
       "      <th>txcount</th>\n",
       "    </tr>\n",
       "  </thead>\n",
       "  <tbody>\n",
       "    <tr>\n",
       "      <th>996</th>\n",
       "      <td>996</td>\n",
       "      <td>1410981277</td>\n",
       "      <td>612</td>\n",
       "      <td>26755</td>\n",
       "      <td>4000000</td>\n",
       "      <td>1</td>\n",
       "    </tr>\n",
       "    <tr>\n",
       "      <th>997</th>\n",
       "      <td>997</td>\n",
       "      <td>1410981284</td>\n",
       "      <td>612</td>\n",
       "      <td>26755</td>\n",
       "      <td>4000000</td>\n",
       "      <td>1</td>\n",
       "    </tr>\n",
       "    <tr>\n",
       "      <th>998</th>\n",
       "      <td>998</td>\n",
       "      <td>1410981291</td>\n",
       "      <td>612</td>\n",
       "      <td>26755</td>\n",
       "      <td>4000000</td>\n",
       "      <td>1</td>\n",
       "    </tr>\n",
       "    <tr>\n",
       "      <th>999</th>\n",
       "      <td>999</td>\n",
       "      <td>1410981298</td>\n",
       "      <td>612</td>\n",
       "      <td>26755</td>\n",
       "      <td>4000000</td>\n",
       "      <td>1</td>\n",
       "    </tr>\n",
       "    <tr>\n",
       "      <th>1000</th>\n",
       "      <td>1000</td>\n",
       "      <td>1410981305</td>\n",
       "      <td>612</td>\n",
       "      <td>26755</td>\n",
       "      <td>4000000</td>\n",
       "      <td>1</td>\n",
       "    </tr>\n",
       "  </tbody>\n",
       "</table>\n",
       "</div>"
      ],
      "text/plain": [
       "      blocknumber   timestamp  size  gasUsed  gasLimit  txcount\n",
       "996           996  1410981277   612    26755   4000000        1\n",
       "997           997  1410981284   612    26755   4000000        1\n",
       "998           998  1410981291   612    26755   4000000        1\n",
       "999           999  1410981298   612    26755   4000000        1\n",
       "1000         1000  1410981305   612    26755   4000000        1"
      ]
     },
     "execution_count": 3,
     "metadata": {},
     "output_type": "execute_result"
    }
   ],
   "source": [
    "df.tail(5)"
   ]
  },
  {
   "cell_type": "code",
   "execution_count": 4,
   "metadata": {},
   "outputs": [
    {
     "name": "stdout",
     "output_type": "stream",
     "text": [
      "7945\n"
     ]
    }
   ],
   "source": [
    "blocks_timestamps_difference = df[\"timestamp\"][1000] - df[\"timestamp\"][1] \n",
    "print (blocks_timestamps_difference)"
   ]
  },
  {
   "cell_type": "code",
   "execution_count": 5,
   "metadata": {},
   "outputs": [
    {
     "name": "stdout",
     "output_type": "stream",
     "text": [
      "204.7680412371134\n"
     ]
    }
   ],
   "source": [
    "duration=38.8 # I measured 38.8 seconds, for the 1000 transactions in 1000 blocks\n",
    "timestamp_units_per_second = blocks_timestamps_difference / duration\n",
    "\n",
    "print (timestamp_units_per_second)"
   ]
  },
  {
   "cell_type": "markdown",
   "metadata": {},
   "source": [
    "why?\n",
    "\n",
    "why not 1, 1000, or 1000000 ?\n"
   ]
  },
  {
   "cell_type": "code",
   "execution_count": null,
   "metadata": {},
   "outputs": [],
   "source": []
  }
 ],
 "metadata": {
  "kernelspec": {
   "display_name": "Python 3",
   "language": "python",
   "name": "python3"
  },
  "language_info": {
   "codemirror_mode": {
    "name": "ipython",
    "version": 3
   },
   "file_extension": ".py",
   "mimetype": "text/x-python",
   "name": "python",
   "nbconvert_exporter": "python",
   "pygments_lexer": "ipython3",
   "version": "3.5.3"
  }
 },
 "nbformat": 4,
 "nbformat_minor": 2
}
